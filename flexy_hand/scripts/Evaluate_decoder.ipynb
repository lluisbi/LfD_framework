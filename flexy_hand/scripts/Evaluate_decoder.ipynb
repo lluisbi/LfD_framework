{
 "cells": [
  {
   "cell_type": "markdown",
   "id": "cf0fef10-9243-4b36-8eee-dc0ec1205af5",
   "metadata": {},
   "source": [
    "<div class=\"alert alert-block alert-success\">\n",
    "    <h1 style=\"margin-bottom:0.5cm\"><b>Evaluate decoder</b></h1>\n",
    "    <p style=\"margin-bottom:0.25cm\">This code is used to evaluate a 'decoder' that can predict finger positions from electromyographic signals, based on angular finger position data and electromyographic data from specific forearm muscles.\n",
    "</div>"
   ]
  },
  {
   "cell_type": "markdown",
   "id": "bcb64360-99b3-492d-9173-1a0433396982",
   "metadata": {},
   "source": [
    "## Import all necessary packages"
   ]
  },
  {
   "cell_type": "code",
   "execution_count": null,
   "id": "9cd91981-2b9a-47dd-9444-b33ed0fb5f95",
   "metadata": {},
   "outputs": [],
   "source": [
    "from sklearn.model_selection import train_test_split\n",
    "from sklearn.linear_model import LinearRegression\n",
    "from sklearn.preprocessing import PolynomialFeatures\n",
    "from sklearn.metrics import mean_squared_error, mean_absolute_error, r2_score\n",
    "from sklearn.metrics import accuracy_score, precision_score, recall_score, f1_score\n",
    "from sklearn.metrics import confusion_matrix\n",
    "import joblib\n",
    "import numpy as np\n",
    "import pandas as pd\n",
    "import matplotlib.pyplot as plt\n",
    "import seaborn as sns\n",
    "from tabulate import tabulate\n",
    "\n",
    "from sklearn import metrics"
   ]
  },
  {
   "cell_type": "markdown",
   "id": "28252746-6647-4648-b445-44c4e659b163",
   "metadata": {},
   "source": [
    "## Linear Regressoion"
   ]
  },
  {
   "cell_type": "markdown",
   "id": "9373b6dc-1947-4b3a-9c37-dfaeb7075698",
   "metadata": {},
   "source": [
    "### Load data"
   ]
  },
  {
   "cell_type": "code",
   "execution_count": null,
   "id": "1d8044bd-1ce5-4735-bd83-42238af0f06d",
   "metadata": {},
   "outputs": [],
   "source": [
    "data = pd.read_csv(\"data/ev_data15.csv\")\n",
    "data"
   ]
  },
  {
   "cell_type": "markdown",
   "id": "1625ec58-1bdb-425e-a180-5fa65e2aaca5",
   "metadata": {
    "tags": []
   },
   "source": [
    "### Delete first and last rows \"without data\""
   ]
  },
  {
   "cell_type": "code",
   "execution_count": null,
   "id": "9ab02eac-c1a9-448d-8211-c979fa4793a1",
   "metadata": {},
   "outputs": [],
   "source": [
    "for i in range(0,2):\n",
    "    data.drop(i, inplace=True)\n",
    "#for i in range(460,464):\n",
    "#    data.drop(i, inplace=True)\n",
    "data"
   ]
  },
  {
   "cell_type": "markdown",
   "id": "2eb2525b-1a60-4a0f-bfce-d666e789dea1",
   "metadata": {},
   "source": [
    "### EDA"
   ]
  },
  {
   "cell_type": "code",
   "execution_count": null,
   "id": "6caea3cc-df21-437c-9f63-93c8bb2b732a",
   "metadata": {},
   "outputs": [],
   "source": [
    "data.info()"
   ]
  },
  {
   "cell_type": "code",
   "execution_count": null,
   "id": "c8474197-3d09-4103-90d7-910d86509eda",
   "metadata": {},
   "outputs": [],
   "source": [
    "data.describe()"
   ]
  },
  {
   "cell_type": "markdown",
   "id": "0822f055-37d7-4fb4-b1e6-588b9cb4bb98",
   "metadata": {},
   "source": [
    "### Calculate metrics"
   ]
  },
  {
   "cell_type": "markdown",
   "id": "5eca63b9-7df5-43fd-9aab-ff5ff7c066c7",
   "metadata": {},
   "source": [
    "#### For each finger"
   ]
  },
  {
   "cell_type": "code",
   "execution_count": null,
   "id": "7c3ea92f-e8d7-4b7f-9fc1-efd02f8728f1",
   "metadata": {},
   "outputs": [],
   "source": [
    "def regression_metrics(actual_values, predicted_values):\n",
    "    \n",
    "    # Mean Absolute Error (MAE)\n",
    "    mae = mean_absolute_error(actual_values, predicted_values)\n",
    "    \n",
    "    # Standard Deviation of Absolute Error (STD_AE)\n",
    "    absolute_errors = np.abs(np.array(actual_values) - np.array(predicted_values))\n",
    "    std_dev_absolute_error = np.std(absolute_errors)\n",
    "    std_ae = np.mean(std_dev_absolute_error)\n",
    "    \n",
    "    # Max and Min Absolute Error\n",
    "    max_ae = np.max(absolute_errors)\n",
    "    min_ae = np.min(absolute_errors)\n",
    "    \n",
    "    # Mean Squared Error (MSE)\n",
    "    mse = mean_squared_error(actual_values, predicted_values)\n",
    "\n",
    "    # Root Mean Squared Error (RMSE)\n",
    "    rmse = np.sqrt(mse)\n",
    "\n",
    "    # R-squared (Coefficient of determination)\n",
    "    r_squared = r2_score(actual_values, predicted_values)\n",
    "    \n",
    "    return mae, std_ae, max_ae, min_ae, mse, rmse, r_squared"
   ]
  },
  {
   "cell_type": "code",
   "execution_count": null,
   "id": "f9534b42-2a69-4adf-9528-5ca73e43222f",
   "metadata": {},
   "outputs": [],
   "source": [
    "thumb_mae, thumb_std_ae, thumb_max_ae, thumb_min_ae, thumb_mse, thumb_rmse, thumb_r_squared = regression_metrics(data['thumb'].tolist(), data['thumb_pred'].tolist())\n",
    "index_mae, index_std_ae, index_max_ae, index_min_ae, index_mse, index_rmse, index_r_squared = regression_metrics(data['index'].tolist(), data['index_pred'].tolist())\n",
    "long_mae, long_std_ae, long_max_ae, long_min_ae, long_mse, long_rmse, long_r_squared = regression_metrics(data['long'].tolist(), data['long_pred'].tolist())\n",
    "ring_mae, ring_std_ae, ring_max_ae, ring_min_ae, ring_mse, ring_rmse, ring_r_squared = regression_metrics(data['ring'].tolist(), data['ring_pred'].tolist())\n",
    "small_mae, small_std_ae, small_max_ae, small_min_ae, small_mse, small_rmse, small_r_squared = regression_metrics(data['small'].tolist(), data['small_pred'].tolist())"
   ]
  },
  {
   "cell_type": "code",
   "execution_count": null,
   "id": "28f0e90c-0c96-41dd-9995-834cae6de418",
   "metadata": {},
   "outputs": [],
   "source": [
    "# Prepare data\n",
    "finger_data = [\n",
    "    [\"Thumb\", thumb_mae, thumb_std_ae, thumb_max_ae, thumb_min_ae, thumb_mse, thumb_rmse, thumb_r_squared],\n",
    "    [\"Index\", index_mae, index_std_ae, index_max_ae, index_min_ae, index_mse, index_rmse, index_r_squared],\n",
    "    [\"Long\", long_mae, long_std_ae, long_max_ae, long_min_ae, long_mse, long_rmse, long_r_squared],\n",
    "    [\"Ring\", ring_mae, ring_std_ae, ring_max_ae, ring_min_ae, ring_mse, ring_rmse, ring_r_squared],\n",
    "    [\"Small\", small_mae, small_std_ae, small_max_ae, small_min_ae, small_mse, small_rmse, small_r_squared]\n",
    "]\n",
    "\n",
    "# Print table\n",
    "print(\"Angle error for each finger (in degrees)\")\n",
    "print(tabulate(finger_data, headers=[\"Finger\", \"MAE\", \"STD_AE\", \"MAX_AE\", \"MIN_AE\", \"MSE\", \"RMSE\", \"R-squared\"], tablefmt=\"grid\"))\n",
    "print(\"  - MAE: Mean Absolute Error\")\n",
    "print(\"  - STD_AE: Standard Deviation of the Absolute Error\")\n",
    "print(\"  - MSE: Mean Squared Error\")\n",
    "print(\"  - RMSE: Root Mean Squared Error\")\n",
    "print(\"  - R-squared: Coefficient of determination\")"
   ]
  },
  {
   "cell_type": "markdown",
   "id": "742a94f9-6429-49c5-abbf-566f0b7afd41",
   "metadata": {},
   "source": [
    "#### In general"
   ]
  },
  {
   "cell_type": "code",
   "execution_count": null,
   "id": "c24f9f5b-1c2b-4abf-970e-5d1c5bc527b9",
   "metadata": {},
   "outputs": [],
   "source": [
    "mae = np.mean([thumb_mae, index_mae, long_mae, ring_mae, small_mae])\n",
    "std_ae = np.mean([thumb_std_ae, index_std_ae, long_std_ae, ring_std_ae, small_std_ae])\n",
    "max_ae = np.max([thumb_max_ae, index_max_ae, long_max_ae, ring_max_ae, small_max_ae])\n",
    "min_ae = np.min([thumb_min_ae, index_min_ae, long_min_ae, ring_min_ae, small_min_ae])\n",
    "mse = np.mean([thumb_mse, index_mse, long_mse, ring_mse, small_mse])\n",
    "rmse = np.mean([thumb_rmse, index_rmse, long_rmse, ring_rmse, small_rmse])\n",
    "r_squared = np.mean([thumb_r_squared, index_r_squared, long_r_squared, ring_r_squared, small_r_squared])\n",
    "\n",
    "# Prepare data\n",
    "general_data = [\n",
    "    [mae, std_ae, max_ae, min_ae, mse, rmse, r_squared]\n",
    "]\n",
    "\n",
    "# Print table\n",
    "print(\"Angle error ingeneral ==> mean (in degrees)\")\n",
    "print(tabulate(general_data, headers=[\"MAE\", \"STD_AE\", \"MAX_AE\", \"MIN_AE\", \"MSE\", \"RMSE\", \"R-squared\"], tablefmt=\"grid\"))\n",
    "print(\"  - MAE: Mean Absolute Error\")\n",
    "print(\"  - STD_AE: Standard Deviation of the Absolute Error\")\n",
    "print(\"  - MSE: Mean Squared Error\")\n",
    "print(\"  - RMSE: Root Mean Squared Error\")\n",
    "print(\"  - R-squared: Coefficient of determination\")"
   ]
  },
  {
   "cell_type": "code",
   "execution_count": null,
   "id": "ca587470-8f69-4e48-b1a2-8ddfc5f80a0a",
   "metadata": {},
   "outputs": [],
   "source": [
    "nothumb_mae = np.mean([index_mae, long_mae, ring_mae, small_mae])\n",
    "nothumb_std_ae = np.mean([index_std_ae, long_std_ae, ring_std_ae, small_std_ae])\n",
    "nothumb_max_ae = np.max([index_max_ae, long_max_ae, ring_max_ae, small_max_ae])\n",
    "nothumb_min_ae = np.min([index_min_ae, long_min_ae, ring_min_ae, small_min_ae])\n",
    "nothumb_mse = np.mean([index_mse, long_mse, ring_mse, small_mse])\n",
    "nothumb_rmse = np.mean([index_rmse, long_rmse, ring_rmse, small_rmse])\n",
    "nothumb_r_squared = np.mean([index_r_squared, long_r_squared, ring_r_squared, small_r_squared])\n",
    "\n",
    "# Prepare data\n",
    "general_data = [\n",
    "    [nothumb_mae, nothumb_std_ae, nothumb_max_ae, nothumb_min_ae, nothumb_mse, nothumb_rmse, nothumb_r_squared]\n",
    "]\n",
    "\n",
    "# Print table\n",
    "print(\"Angle error ingeneral ==> mean (in degrees)\")\n",
    "print(tabulate(general_data, headers=[\"MAE\", \"STD_AE\", \"MAX_AE\", \"MIN_AE\", \"MSE\", \"RMSE\", \"R-squared\"], tablefmt=\"grid\"))\n",
    "print(\"  - MAE: Mean Absolute Error\")\n",
    "print(\"  - STD_AE: Standard Deviation of the Absolute Error\")\n",
    "print(\"  - MSE: Mean Squared Error\")\n",
    "print(\"  - RMSE: Root Mean Squared Error\")\n",
    "print(\"  - R-squared: Coefficient of determination\")"
   ]
  },
  {
   "cell_type": "markdown",
   "id": "68736c92-7595-4a98-b3d6-b003dc005228",
   "metadata": {},
   "source": [
    "### Export data"
   ]
  },
  {
   "cell_type": "code",
   "execution_count": null,
   "id": "e3d0efb9-9a7a-4d71-a313-5ae864cef119",
   "metadata": {},
   "outputs": [],
   "source": [
    "import csv\n",
    "\n",
    "with open('S4_LR_test.csv', 'w', newline='') as file:\n",
    "    writer = csv.writer(file)\n",
    "    writer.writerow(['S4', 'MAE', 'STD_AE', 'MAX_AE', 'MIN_AE', 'MSE', 'RMSE', 'R-squared'])\n",
    "    writer.writerow(['Thumb', thumb_mae, thumb_std_ae, thumb_max_ae, thumb_min_ae, thumb_mse, thumb_rmse, thumb_r_squared])\n",
    "    writer.writerow(['Index', index_mae, index_std_ae, index_max_ae, index_min_ae, index_mse, index_rmse, index_r_squared])\n",
    "    writer.writerow(['Long', long_mae, long_std_ae, long_max_ae, long_min_ae, long_mse, long_rmse, long_r_squared])\n",
    "    writer.writerow(['Ring', ring_mae, ring_std_ae, ring_max_ae, ring_min_ae, ring_mse, ring_rmse, ring_r_squared])\n",
    "    writer.writerow(['Small', small_mae, small_std_ae, small_max_ae, small_min_ae, small_mse, small_rmse, small_r_squared])\n",
    "    writer.writerow(['General', mae, std_ae, max_ae, min_ae, mse, rmse, r_squared])\n",
    "    writer.writerow(['General_nothumb', nothumb_mae, nothumb_std_ae, nothumb_max_ae, nothumb_min_ae, nothumb_mse, nothumb_rmse, nothumb_r_squared])"
   ]
  },
  {
   "cell_type": "markdown",
   "id": "a2123ad3-8a94-4300-8e19-0928a73ba4e0",
   "metadata": {},
   "source": [
    "### Correlation"
   ]
  },
  {
   "cell_type": "code",
   "execution_count": null,
   "id": "6561a35d-d021-4274-bb67-f9b5f95dd11a",
   "metadata": {},
   "outputs": [],
   "source": [
    "thumb_corr = np.corrcoef(data['thumb'], data['thumb_pred'])[0, 1]\n",
    "index_corr = np.corrcoef(data['index'], data['index_pred'])[0, 1]\n",
    "long_corr = np.corrcoef(data['long'], data['long_pred'])[0, 1]\n",
    "ring_corr = np.corrcoef(data['ring'], data['ring_pred'])[0, 1]\n",
    "small_corr = np.corrcoef(data['small'], data['small_pred'])[0, 1]\n",
    "general_corr = np.mean([thumb_corr, index_corr, long_corr, ring_corr, small_corr])\n",
    "general_nothumb_corr = np.mean([index_corr, long_corr, ring_corr, small_corr])\n",
    "\n",
    "print(\"thumb_corr: {:.2f}\".format(thumb_corr))\n",
    "print(\"index_corr: {:.2f}\".format(index_corr))\n",
    "print(\"long_corr: {:.2f}\".format(long_corr))\n",
    "print(\"ring_corr: {:.2f}\".format(ring_corr))\n",
    "print(\"small_corr: {:.2f}\".format(small_corr))\n",
    "print(\"general_corr: {:.2f}\".format(general_corr))\n",
    "print(\"general_nothumb_corr: {:.2f}\".format(general_nothumb_corr))"
   ]
  },
  {
   "cell_type": "code",
   "execution_count": null,
   "id": "3f9a8dcd-1ec8-478b-9d09-fc743ceb3f2a",
   "metadata": {},
   "outputs": [],
   "source": [
    "import csv\n",
    "\n",
    "with open('S4_LR_test_corr.csv', 'w', newline='') as file:\n",
    "    writer = csv.writer(file)\n",
    "    writer.writerow(['S', 'corr'])\n",
    "    writer.writerow(['Thumb', thumb_corr])\n",
    "    writer.writerow(['Index', index_corr])\n",
    "    writer.writerow(['Long', long_corr])\n",
    "    writer.writerow(['Ring', ring_corr])\n",
    "    writer.writerow(['Small', small_corr])\n",
    "    writer.writerow(['General', general_corr])\n",
    "    writer.writerow(['General_nothumb', general_nothumb_corr])"
   ]
  },
  {
   "cell_type": "markdown",
   "id": "72d24974-7584-483b-a583-036ea996d792",
   "metadata": {},
   "source": [
    "### Plot vectors"
   ]
  },
  {
   "cell_type": "code",
   "execution_count": null,
   "id": "3b5e707d-456a-4a07-85cb-c08ddf96f634",
   "metadata": {},
   "outputs": [],
   "source": [
    "def plot_vector(y_values, color='b', label=None):\n",
    "    x_values = range(len(y_values))\n",
    "    plt.plot(x_values, y_values, color=color, label=label)\n",
    "    plt.xlabel('Index')\n",
    "    plt.ylabel('Y Values')\n",
    "    plt.grid(True)\n",
    "    plt.legend()"
   ]
  },
  {
   "cell_type": "markdown",
   "id": "a97824f0-2128-4aef-a7a8-7fbf6d7ef0e9",
   "metadata": {},
   "source": [
    "#### Thumb"
   ]
  },
  {
   "cell_type": "code",
   "execution_count": null,
   "id": "5201f3e0-6c55-4e3a-9842-f4e58b555b86",
   "metadata": {},
   "outputs": [],
   "source": [
    "plot_vector(data['thumb'], color='r', label='Test')\n",
    "plot_vector(data['thumb_pred'], color='g', label='Pred')\n",
    "plt.title('Thumb')\n",
    "plt.show()"
   ]
  },
  {
   "cell_type": "code",
   "execution_count": null,
   "id": "cb80ea67-747d-46ff-aa20-42b171615831",
   "metadata": {},
   "outputs": [],
   "source": [
    "# Calculate the correlation coefficient\n",
    "correlation_coefficient = np.corrcoef(data['thumb'], data['thumb_pred'])[0, 1]\n",
    "\n",
    "print(\"Correlation coefficient: {:.2f}\".format(correlation_coefficient))"
   ]
  },
  {
   "cell_type": "markdown",
   "id": "6b8eb693-8e62-4832-b1e6-29c1726b21f0",
   "metadata": {},
   "source": [
    "#### Index"
   ]
  },
  {
   "cell_type": "code",
   "execution_count": null,
   "id": "0610570c-9cd9-4035-9bf1-fba411fcfb0e",
   "metadata": {},
   "outputs": [],
   "source": [
    "plot_vector(data['index'], color='r', label='Test')\n",
    "plot_vector(data['index_pred'], color='g', label='Pred')\n",
    "plt.title('Index')\n",
    "plt.show()"
   ]
  },
  {
   "cell_type": "code",
   "execution_count": null,
   "id": "47205bd1-524d-4b2b-a3d3-834e7c20f51b",
   "metadata": {},
   "outputs": [],
   "source": [
    "# Calculate the correlation coefficient\n",
    "correlation_coefficient = np.corrcoef(data['index'], data['index_pred'])[0, 1]\n",
    "\n",
    "print(\"Correlation coefficient: {:.2f}\".format(correlation_coefficient))"
   ]
  },
  {
   "cell_type": "markdown",
   "id": "d8baab92-b860-4915-b5b1-3ade30efd91f",
   "metadata": {},
   "source": [
    "#### Long"
   ]
  },
  {
   "cell_type": "code",
   "execution_count": null,
   "id": "ab42f9ba-f543-45b4-a450-2f125c932b29",
   "metadata": {},
   "outputs": [],
   "source": [
    "plot_vector(data['long'], color='r', label='Test')\n",
    "plot_vector(data['long_pred'], color='g', label='Pred')\n",
    "plt.title('Long')\n",
    "plt.show()"
   ]
  },
  {
   "cell_type": "code",
   "execution_count": null,
   "id": "30b14e17-f789-4288-8305-83659603c607",
   "metadata": {},
   "outputs": [],
   "source": [
    "# Calculate the correlation coefficient\n",
    "correlation_coefficient = np.corrcoef(data['long'], data['long_pred'])[0, 1]\n",
    "\n",
    "print(\"Correlation coefficient: {:.2f}\".format(correlation_coefficient))"
   ]
  },
  {
   "cell_type": "markdown",
   "id": "ca4de512-f90e-4dba-8584-6d94c15fe12a",
   "metadata": {},
   "source": [
    "#### Ring"
   ]
  },
  {
   "cell_type": "code",
   "execution_count": null,
   "id": "35d11e20-8af9-4d16-a5b6-4302390be84a",
   "metadata": {},
   "outputs": [],
   "source": [
    "plot_vector(data['ring'], color='r', label='Test')\n",
    "plot_vector(data['ring_pred'], color='g', label='Pred')\n",
    "plt.title('Ring')\n",
    "plt.show()"
   ]
  },
  {
   "cell_type": "code",
   "execution_count": null,
   "id": "38ff1110-cb55-42fd-bb60-18de1c87a994",
   "metadata": {},
   "outputs": [],
   "source": [
    "# Calculate the correlation coefficient\n",
    "correlation_coefficient = np.corrcoef(data['ring'], data['ring_pred'])[0, 1]\n",
    "\n",
    "print(\"Correlation coefficient: {:.2f}\".format(correlation_coefficient))"
   ]
  },
  {
   "cell_type": "markdown",
   "id": "1fe5b6bb-1b71-44bc-b831-49ec82b357bb",
   "metadata": {},
   "source": [
    "#### Small"
   ]
  },
  {
   "cell_type": "code",
   "execution_count": null,
   "id": "dab19a08-18e8-41cd-887b-85e2a91eeafd",
   "metadata": {},
   "outputs": [],
   "source": [
    "plot_vector(data['small'], color='r', label='Test')\n",
    "plot_vector(data['small_pred'], color='g', label='Pred')\n",
    "plt.title('Small')\n",
    "plt.show()"
   ]
  },
  {
   "cell_type": "code",
   "execution_count": null,
   "id": "33f6fec2-c0f8-4787-9665-13499a1ae611",
   "metadata": {},
   "outputs": [],
   "source": [
    "# Calculate the correlation coefficient\n",
    "correlation_coefficient = np.corrcoef(data['small'], data['small_pred'])[0, 1]\n",
    "\n",
    "print(\"Correlation coefficient: {:.2f}\".format(correlation_coefficient))"
   ]
  },
  {
   "cell_type": "markdown",
   "id": "4ce6ef57-a7ff-482a-a35b-82124c98e27b",
   "metadata": {},
   "source": [
    "## LDA"
   ]
  },
  {
   "cell_type": "markdown",
   "id": "1535c58e-05b4-449f-858a-254d07e530ca",
   "metadata": {},
   "source": [
    "### Load data"
   ]
  },
  {
   "cell_type": "code",
   "execution_count": null,
   "id": "273648f9-93a7-452d-9840-b04d7987cb4b",
   "metadata": {},
   "outputs": [],
   "source": [
    "data = pd.read_csv(\"data/ev_data16.csv\")\n",
    "data"
   ]
  },
  {
   "cell_type": "markdown",
   "id": "7d6a485e-af87-47d9-acbf-35a5e04d5a73",
   "metadata": {},
   "source": [
    "### Delete first and last rows \"without data\""
   ]
  },
  {
   "cell_type": "code",
   "execution_count": null,
   "id": "e075a296-e544-4f4a-82a8-5ad20887a09c",
   "metadata": {},
   "outputs": [],
   "source": [
    "for i in range(0,5):\n",
    "    data.drop(i, inplace=True)\n",
    "#for i in range(460,464):\n",
    "#    data.drop(i, inplace=True)\n",
    "data"
   ]
  },
  {
   "cell_type": "markdown",
   "id": "02d823e3-1b2d-474f-ab3a-5b4a127a5220",
   "metadata": {},
   "source": [
    "### Preprocessing for classification"
   ]
  },
  {
   "cell_type": "code",
   "execution_count": null,
   "id": "5373b872-bc5a-407e-b3f1-16e73e4f6ef8",
   "metadata": {},
   "outputs": [],
   "source": [
    "data['thumb_bool'] = (data['thumb'] > data['thumb'].mean()).astype(int)\n",
    "data['index_bool'] = (data['index'] > data['index'].mean()).astype(int)\n",
    "data['long_bool'] = (data['long'] > data['long'].mean()).astype(int)\n",
    "data['ring_bool'] = (data['ring'] > data['ring'].mean()).astype(int)\n",
    "data['small_bool'] = (data['small'] > data['small'].mean()).astype(int)\n",
    "\n",
    "data['thumb_pred_bool'] = (data['thumb_pred'] > data['thumb_pred'].mean()).astype(int)\n",
    "data['index_pred_bool'] = (data['index_pred'] > data['index_pred'].mean()).astype(int)\n",
    "data['long_pred_bool'] = (data['long_pred'] > data['long_pred'].mean()).astype(int)\n",
    "data['ring_pred_bool'] = (data['ring_pred'] > data['ring_pred'].mean()).astype(int)\n",
    "data['small_pred_bool'] = (data['small_pred'] > data['small_pred'].mean()).astype(int)\n",
    "\n",
    "data"
   ]
  },
  {
   "cell_type": "markdown",
   "id": "b32684dd-f2a9-4b29-8ec5-469d3fb87c83",
   "metadata": {},
   "source": [
    "### EDA"
   ]
  },
  {
   "cell_type": "code",
   "execution_count": null,
   "id": "cd507047-b0e3-43c3-a1fa-a6480389b1f2",
   "metadata": {},
   "outputs": [],
   "source": [
    "data.info()"
   ]
  },
  {
   "cell_type": "code",
   "execution_count": null,
   "id": "bd39fc09-1383-43c7-88ac-48b0b6f08f2e",
   "metadata": {},
   "outputs": [],
   "source": [
    "data.describe()"
   ]
  },
  {
   "cell_type": "markdown",
   "id": "c912651c-9ece-45f7-94ae-5bbe815bb041",
   "metadata": {},
   "source": [
    "### Scores"
   ]
  },
  {
   "cell_type": "markdown",
   "id": "aeab747d-20e9-4341-9d27-321ad82608a3",
   "metadata": {},
   "source": [
    "#### For each finger"
   ]
  },
  {
   "cell_type": "code",
   "execution_count": null,
   "id": "bb84ef15-aab2-4abb-b724-3e474b9e80c9",
   "metadata": {},
   "outputs": [],
   "source": [
    "def metrics_classification(actual_values, predicted_values):\n",
    "    \n",
    "    # Calculate accuracy\n",
    "    accuracy = accuracy_score(actual_values, predicted_values)\n",
    "\n",
    "    # Calculate precision\n",
    "    precision = precision_score(actual_values, predicted_values)\n",
    "\n",
    "    # Calculate recall (sensitivity)\n",
    "    recall = recall_score(actual_values, predicted_values)\n",
    "\n",
    "    # Calculate F1-score\n",
    "    f1 = f1_score(actual_values, predicted_values)\n",
    "    \n",
    "    return accuracy, precision, recall, f1"
   ]
  },
  {
   "cell_type": "code",
   "execution_count": null,
   "id": "4d23d29f-2f0a-4b2a-a90b-e64a50d34126",
   "metadata": {},
   "outputs": [],
   "source": [
    "thumb_accuracy, thumb_precision, thumb_recall, thumb_f1_score = metrics_classification(data['thumb_bool'].tolist(), data['thumb_pred_bool'].tolist())\n",
    "index_accuracy, index_precision, index_recall, index_f1_score= metrics_classification(data['index_bool'].tolist(), data['index_pred_bool'].tolist())\n",
    "long_accuracy, long_precision, long_recall, long_f1_score = metrics_classification(data['long_bool'].tolist(), data['long_pred_bool'].tolist())\n",
    "ring_accuracy, ring_precision, ring_recall, ring_f1_score = metrics_classification(data['ring_bool'].tolist(), data['ring_pred_bool'].tolist())\n",
    "small_accuracy, small_precision, small_recall, small_f1_score = metrics_classification(data['small_bool'].tolist(), data['small_pred_bool'].tolist())"
   ]
  },
  {
   "cell_type": "code",
   "execution_count": null,
   "id": "82790bbc-4086-4825-81b8-79a73ba4e59f",
   "metadata": {},
   "outputs": [],
   "source": [
    "# Prepare data\n",
    "finger_data = [\n",
    "    [\"Thumb\", thumb_accuracy, thumb_precision, thumb_recall, thumb_f1_score],    \n",
    "    [\"Index\", index_accuracy, index_precision, index_recall, index_f1_score],\n",
    "    [\"Long\", long_accuracy, long_precision, long_recall, long_f1_score],\n",
    "    [\"Ring\", ring_accuracy, ring_precision, ring_recall, ring_f1_score],\n",
    "    [\"Small\", small_accuracy, small_precision, small_recall, small_f1_score]\n",
    "]\n",
    "\n",
    "# Print table\n",
    "print(\"Scores for each finger\")\n",
    "print(tabulate(finger_data, headers=[\"Finger\", \"Accuracy\", \"Precision\", \"Recall\", \"F1-score\"], tablefmt=\"grid\"))"
   ]
  },
  {
   "cell_type": "markdown",
   "id": "e729a828-9bc6-409a-a01b-0d60c981a739",
   "metadata": {},
   "source": [
    "#### In general"
   ]
  },
  {
   "cell_type": "code",
   "execution_count": null,
   "id": "67d5d6d9-e49e-4554-a5ed-636e0d135c1c",
   "metadata": {},
   "outputs": [],
   "source": [
    "accuracy = np.mean([thumb_accuracy, index_accuracy, long_accuracy, ring_accuracy, small_accuracy])\n",
    "precision = np.mean([thumb_precision, index_precision, long_precision, ring_precision, small_precision])\n",
    "recall = np.max([thumb_recall, index_recall, long_recall, ring_recall, small_recall])\n",
    "f1_score = np.min([thumb_f1_score, index_f1_score, long_f1_score, ring_f1_score, small_f1_score])\n",
    "\n",
    "# Prepare data\n",
    "finger_data = [\n",
    "    [accuracy, precision, recall, f1_score]\n",
    "]\n",
    "\n",
    "# Print table\n",
    "print(\"Scores in general\")\n",
    "print(tabulate(finger_data, headers=[\"Accuracy\", \"Precision\", \"Recall\", \"F1-score\"], tablefmt=\"grid\"))"
   ]
  },
  {
   "cell_type": "code",
   "execution_count": null,
   "id": "4dfac8ac-7714-4b94-8102-0b62b89a36a0",
   "metadata": {},
   "outputs": [],
   "source": [
    "nothumb_accuracy = np.mean([index_accuracy, long_accuracy, ring_accuracy, small_accuracy])\n",
    "nothumb_precision = np.mean([index_precision, long_precision, ring_precision, small_precision])\n",
    "nothumb_recall = np.max([index_recall, long_recall, ring_recall, small_recall])\n",
    "nothumb_f1_score = np.min([index_f1_score, long_f1_score, ring_f1_score, small_f1_score])\n",
    "\n",
    "# Prepare data\n",
    "finger_data = [\n",
    "    [nothumb_accuracy, nothumb_precision, nothumb_recall, nothumb_f1_score]\n",
    "]\n",
    "\n",
    "# Print table\n",
    "print(\"Scores in general\")\n",
    "print(tabulate(finger_data, headers=[\"Accuracy\", \"Precision\", \"Recall\", \"F1-score\"], tablefmt=\"grid\"))"
   ]
  },
  {
   "cell_type": "markdown",
   "id": "f96e6731-aa10-448a-bdb8-21cfcff2d2f3",
   "metadata": {},
   "source": [
    "### Export data"
   ]
  },
  {
   "cell_type": "code",
   "execution_count": null,
   "id": "5fcbb953-4eba-46e3-8a51-9adc4585bd21",
   "metadata": {},
   "outputs": [],
   "source": [
    "import csv\n",
    "\n",
    "with open('S4_LDA.csv', 'w', newline='') as file:\n",
    "    writer = csv.writer(file)\n",
    "    writer.writerow(['S4', 'Accuracy', 'Precision', 'Recall', 'F1-score'])\n",
    "    writer.writerow(['Thumb', thumb_accuracy, thumb_precision, thumb_recall, thumb_f1_score])\n",
    "    writer.writerow(['Index', index_accuracy, index_precision, index_recall, index_f1_score])\n",
    "    writer.writerow(['Long', long_accuracy, long_precision, long_recall, long_f1_score])\n",
    "    writer.writerow(['Ring', ring_accuracy, ring_precision, ring_recall, ring_f1_score])\n",
    "    writer.writerow(['Small', ring_accuracy, ring_precision, ring_recall, ring_f1_score])\n",
    "    writer.writerow(['General', accuracy, precision, recall, f1_score])\n",
    "    writer.writerow(['General_nothumb', nothumb_accuracy, nothumb_precision, nothumb_recall, nothumb_f1_score])"
   ]
  },
  {
   "cell_type": "markdown",
   "id": "86fcd300-0508-4016-a557-a10e0c9a8a40",
   "metadata": {},
   "source": [
    "### Confussion matrix"
   ]
  },
  {
   "cell_type": "code",
   "execution_count": null,
   "id": "88834a5c-3192-419e-b373-02e919c44a45",
   "metadata": {},
   "outputs": [],
   "source": [
    "def confussion_matrix(actual_values, predicted_values):\n",
    "    # Calculate confusion matrix\n",
    "    conf_matrix = confusion_matrix(actual_values, predicted_values)\n",
    "\n",
    "    # Define labels for the confusion matrix\n",
    "    labels = ['True Negative', 'False Positive', 'False Negative', 'True Positive']\n",
    "\n",
    "    # Plot confusion matrix\n",
    "    plt.figure(figsize=(8, 6))\n",
    "    sns.heatmap(conf_matrix, annot=True, fmt=\"d\", cmap=\"Blues\", xticklabels=['Predicted 0', 'Predicted 1'], yticklabels=['Actual 0', 'Actual 1'])\n",
    "    plt.xlabel('Predicted label')\n",
    "    plt.ylabel('True label')\n",
    "    plt.title('Confusion Matrix')\n",
    "    plt.xticks(rotation=45)\n",
    "    plt.yticks(rotation=0)\n",
    "    plt.show()\n",
    "    \n",
    "    return conf_matrix"
   ]
  },
  {
   "cell_type": "markdown",
   "id": "cdc45d37-518e-4159-a323-5c4ad2e95ed0",
   "metadata": {},
   "source": [
    "#### Thumb"
   ]
  },
  {
   "cell_type": "code",
   "execution_count": null,
   "id": "8ac34311-8248-4166-86fb-4055a2106a04",
   "metadata": {},
   "outputs": [],
   "source": [
    "thumb_conf_matrix = confussion_matrix(data['thumb_bool'].tolist(), data['thumb_pred_bool'].tolist())"
   ]
  },
  {
   "cell_type": "markdown",
   "id": "a17f1457-6aa0-45a1-8ddc-bef26b3467c3",
   "metadata": {},
   "source": [
    "#### Index"
   ]
  },
  {
   "cell_type": "code",
   "execution_count": null,
   "id": "0b7c5001-7c11-4718-b47a-3543a15b9d60",
   "metadata": {},
   "outputs": [],
   "source": [
    "index_conf_matrix = confussion_matrix(data['index_bool'].tolist(), data['index_pred_bool'].tolist())"
   ]
  },
  {
   "cell_type": "markdown",
   "id": "4efb6198-a1bb-434d-8dad-e8a988fa97c4",
   "metadata": {},
   "source": [
    "#### Long"
   ]
  },
  {
   "cell_type": "code",
   "execution_count": null,
   "id": "acdb7d68-e191-400e-9532-84480a05f15d",
   "metadata": {},
   "outputs": [],
   "source": [
    "long_conf_matrix = confussion_matrix(data['long_bool'].tolist(), data['long_pred_bool'].tolist())"
   ]
  },
  {
   "cell_type": "markdown",
   "id": "85acf191-4817-4a59-9b0b-93b58e03423d",
   "metadata": {},
   "source": [
    "#### Ring"
   ]
  },
  {
   "cell_type": "code",
   "execution_count": null,
   "id": "690dafef-d3ee-44c2-b4a3-949af2fc7218",
   "metadata": {},
   "outputs": [],
   "source": [
    "ring_conf_matrix = confussion_matrix(data['ring_bool'].tolist(), data['ring_pred_bool'].tolist())"
   ]
  },
  {
   "cell_type": "markdown",
   "id": "2844b754-a7df-494d-b3ea-da3dbfc36353",
   "metadata": {},
   "source": [
    "#### Small"
   ]
  },
  {
   "cell_type": "code",
   "execution_count": null,
   "id": "4be60125-63b4-4643-b350-d55362d00638",
   "metadata": {},
   "outputs": [],
   "source": [
    "small_conf_matrix = confussion_matrix(data['small_bool'].tolist(), data['small_pred_bool'].tolist())"
   ]
  },
  {
   "cell_type": "markdown",
   "id": "0c473d26-beea-44fb-a762-0d2178a94f3c",
   "metadata": {},
   "source": [
    "### EXTRA\n",
    "Esto es para sacar la matriz de confusión a mano (no hace falta):"
   ]
  },
  {
   "cell_type": "code",
   "execution_count": null,
   "id": "208df157-a8e3-4725-bf08-3c8052604b5c",
   "metadata": {},
   "outputs": [],
   "source": [
    "TN = 0 # True Negative\n",
    "TP = 0 # True Positive\n",
    "FN = 0 # False Negative\n",
    "FP = 0 # False Positive\n",
    "\n",
    "for index, row in data.iterrows():\n",
    "    ref = row['thumb_bool']\n",
    "    pred = row['thumb_pred_bool']\n",
    "    \n",
    "    # Perform comparison\n",
    "    if ref == 0 and pred == 0:\n",
    "        TN = TN + 1\n",
    "    elif ref == 1 and pred == 1:\n",
    "        TP = TP + 1\n",
    "    elif ref == 0 and pred == 1:\n",
    "        FP = FP + 1\n",
    "    elif ref == 1 and pred == 0:\n",
    "        FN = FN + 1\n",
    "        \n",
    "# Print the values in a 2x2 table with row and column names\n",
    "print(\"+----------+----------+---------------------+\")\n",
    "print(\"|{:<10}|{:<10}|{:<20}|\".format(\"\", \"\", \"      Predicted      \"))\n",
    "print(\"+----------+----------+---------------------+\")\n",
    "print(\"|{:<10}|{:<10}|{:<10}|{:<10}|\".format(\"\", \"\", \" Positive\", \" Negative\"))\n",
    "print(\"+----------+----------+---------------------+\")\n",
    "print(\"|{:<10}|{:<10}|{:<10}|{:<10}|\".format(\"  Actual\", \" Positive\", TP, FN))\n",
    "print(\"+          +----------+---------------------+\")\n",
    "print(\"|{:<10}|{:<10}|{:<10}|{:<10}|\".format(\"\", \" Negative\", FP, TN))\n",
    "print(\"+----------+----------+---------------------+\")"
   ]
  }
 ],
 "metadata": {
  "kernelspec": {
   "display_name": "Python 3 (ipykernel)",
   "language": "python",
   "name": "python3"
  },
  "language_info": {
   "codemirror_mode": {
    "name": "ipython",
    "version": 3
   },
   "file_extension": ".py",
   "mimetype": "text/x-python",
   "name": "python",
   "nbconvert_exporter": "python",
   "pygments_lexer": "ipython3",
   "version": "3.12.2"
  }
 },
 "nbformat": 4,
 "nbformat_minor": 5
}
