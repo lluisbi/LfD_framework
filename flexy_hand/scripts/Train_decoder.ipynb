{
 "cells": [
  {
   "cell_type": "markdown",
   "id": "cf0fef10-9243-4b36-8eee-dc0ec1205af5",
   "metadata": {},
   "source": [
    "<div class=\"alert alert-block alert-success\">\n",
    "    <h1 style=\"margin-bottom:0.5cm\"><b>Train decoder</b></h1>\n",
    "    <p style=\"margin-bottom:0.25cm\">This code is used to train a 'decoder' that can predict finger positions from electromyographic signals, based on angular finger position data and electromyographic data from specific forearm muscles. To do this, the usual steps of a \"data analysis\" process are followed and different alternatives are tested to build the model.\n",
    "</div>"
   ]
  },
  {
   "cell_type": "markdown",
   "id": "51eb11c0-f67a-44c5-8272-cdc1b180b8c9",
   "metadata": {},
   "source": [
    "## Import all necessary packages"
   ]
  },
  {
   "cell_type": "code",
   "execution_count": null,
   "id": "9cd91981-2b9a-47dd-9444-b33ed0fb5f95",
   "metadata": {},
   "outputs": [],
   "source": [
    "from sklearn.model_selection import train_test_split\n",
    "from sklearn.linear_model import LinearRegression\n",
    "from sklearn.preprocessing import PolynomialFeatures\n",
    "from sklearn.metrics import mean_squared_error\n",
    "from sklearn.discriminant_analysis import LinearDiscriminantAnalysis\n",
    "from sklearn.preprocessing import StandardScaler, MinMaxScaler\n",
    "from yellowbrick.classifier import confusion_matrix\n",
    "from sklearn.metrics import classification_report\n",
    "from yellowbrick.classifier import ROCAUC, PrecisionRecallCurve\n",
    "from sklearn.preprocessing import LabelEncoder\n",
    "import joblib\n",
    "import numpy as np\n",
    "import pandas as pd\n",
    "import seaborn as sns\n",
    "import matplotlib.pyplot as plt\n",
    "from sklearn import metrics"
   ]
  },
  {
   "cell_type": "markdown",
   "id": "3624fbb2-ea6a-47c9-9fcf-586ec37c49da",
   "metadata": {},
   "source": [
    "## Data preprocessing"
   ]
  },
  {
   "cell_type": "markdown",
   "id": "9ad4416a-f929-4155-886e-3755a6e589e6",
   "metadata": {},
   "source": [
    "[ToDo]\n",
    "- Por ahora todo el preprocesado se hace en el software de Noraxon"
   ]
  },
  {
   "cell_type": "markdown",
   "id": "6153d6ec-998b-4020-a9bc-b783646ccbc6",
   "metadata": {},
   "source": [
    "## Load data"
   ]
  },
  {
   "cell_type": "code",
   "execution_count": null,
   "id": "1d8044bd-1ce5-4735-bd83-42238af0f06d",
   "metadata": {},
   "outputs": [],
   "source": [
    "data = pd.read_csv(\"data/data16.csv\")\n",
    "data"
   ]
  },
  {
   "cell_type": "markdown",
   "id": "d0447b5d-0875-486d-9993-fa015455f92d",
   "metadata": {},
   "source": [
    "### Rename column"
   ]
  },
  {
   "cell_type": "code",
   "execution_count": null,
   "id": "010fdd37-6285-4bf7-8a01-ab74375d668f",
   "metadata": {},
   "outputs": [],
   "source": [
    "data.rename(columns={'index': 'indice'}, inplace=True)"
   ]
  },
  {
   "cell_type": "markdown",
   "id": "a987d99b-882f-4110-87b1-db4f5bf6fb5e",
   "metadata": {},
   "source": [
    "## Exploratory Data Analysis (EDA)"
   ]
  },
  {
   "cell_type": "markdown",
   "id": "1625ec58-1bdb-425e-a180-5fa65e2aaca5",
   "metadata": {
    "tags": []
   },
   "source": [
    "### Delete first and last rows \"without data\""
   ]
  },
  {
   "cell_type": "code",
   "execution_count": null,
   "id": "9ab02eac-c1a9-448d-8211-c979fa4793a1",
   "metadata": {},
   "outputs": [],
   "source": [
    "for i in range(0,1):\n",
    "    data.drop(i, inplace=True)"
   ]
  },
  {
   "cell_type": "code",
   "execution_count": null,
   "id": "58533530-fbba-4d8d-94b1-be3e89b6c94b",
   "metadata": {},
   "outputs": [],
   "source": [
    "for i in range(2686,2716):\n",
    "    data.drop(i, inplace=True)"
   ]
  },
  {
   "cell_type": "code",
   "execution_count": null,
   "id": "1757013c-0c73-420d-9d7b-316eba380930",
   "metadata": {},
   "outputs": [],
   "source": [
    "data"
   ]
  },
  {
   "cell_type": "markdown",
   "id": "fd5bc531-6ca3-493f-9c53-ffee36d7a29a",
   "metadata": {},
   "source": [
    "### Preprocessing for classification"
   ]
  },
  {
   "cell_type": "code",
   "execution_count": null,
   "id": "5d09f14d-96c4-426b-a340-2d285cd1ebc0",
   "metadata": {},
   "outputs": [],
   "source": [
    "data['thumb_bool'] = (data['thumb'] > data['thumb'].mean()).astype(int)\n",
    "data['indice_bool'] = (data['indice'] > data['indice'].mean()).astype(int)\n",
    "data['long_bool'] = (data['long'] > data['long'].mean()).astype(int)\n",
    "data['ring_bool'] = (data['ring'] > data['ring'].mean()).astype(int)\n",
    "data['small_bool'] = (data['small'] > data['small'].mean()).astype(int)"
   ]
  },
  {
   "cell_type": "code",
   "execution_count": null,
   "id": "62f65545-dcd3-48fb-9c57-e5bc46d4f9b5",
   "metadata": {},
   "outputs": [],
   "source": [
    "data"
   ]
  },
  {
   "cell_type": "markdown",
   "id": "be6f278e-be79-4e9b-99a4-4f3f666d5828",
   "metadata": {},
   "source": [
    "### Manage missing (NaN) values"
   ]
  },
  {
   "cell_type": "code",
   "execution_count": null,
   "id": "f8610a9e-14c2-42c9-ad9b-36bfe81172f4",
   "metadata": {},
   "outputs": [],
   "source": [
    "print(\"NaN values in data: \"+str(data.isnull().values.sum()))"
   ]
  },
  {
   "cell_type": "markdown",
   "id": "048c58d5-8e09-4a90-af10-1e4857a8ad82",
   "metadata": {},
   "source": [
    "### Check duplicated rows"
   ]
  },
  {
   "cell_type": "code",
   "execution_count": null,
   "id": "651f196f-14bb-4c22-887b-7639464f04c5",
   "metadata": {},
   "outputs": [],
   "source": [
    "#print(\"Duplicated rows in data: \"+str(data.duplicated().sum()))\n",
    "#data.drop_duplicates(inplace=True)\n",
    "#data.duplicated().sum()"
   ]
  },
  {
   "cell_type": "markdown",
   "id": "2eb2525b-1a60-4a0f-bfce-d666e789dea1",
   "metadata": {},
   "source": [
    "### Data information"
   ]
  },
  {
   "cell_type": "code",
   "execution_count": null,
   "id": "9894b2c8-7492-454d-a315-63b32de7be17",
   "metadata": {},
   "outputs": [],
   "source": [
    "data.shape"
   ]
  },
  {
   "cell_type": "code",
   "execution_count": null,
   "id": "1b44c547-002c-4811-89eb-8c1e755baa85",
   "metadata": {},
   "outputs": [],
   "source": [
    "data.dtypes"
   ]
  },
  {
   "cell_type": "code",
   "execution_count": null,
   "id": "6caea3cc-df21-437c-9f63-93c8bb2b732a",
   "metadata": {},
   "outputs": [],
   "source": [
    "data.info()"
   ]
  },
  {
   "cell_type": "code",
   "execution_count": null,
   "id": "c8474197-3d09-4103-90d7-910d86509eda",
   "metadata": {},
   "outputs": [],
   "source": [
    "data.describe()"
   ]
  },
  {
   "cell_type": "markdown",
   "id": "f6bd3ae1-a9a6-4f2a-8c50-930c6f1c2cf3",
   "metadata": {},
   "source": [
    "### Histograms"
   ]
  },
  {
   "cell_type": "code",
   "execution_count": null,
   "id": "876ef6e9-e9df-42e3-a39b-fd027dab3a35",
   "metadata": {},
   "outputs": [],
   "source": [
    "fig, (ax1, ax2, ax3) = plt.subplots(nrows=3, ncols=5, figsize=(30, 20))\n",
    "\n",
    "data.thumb.plot(kind='hist', bins=15, color='lightsteelblue', edgecolor='black', ax=ax1[0])\n",
    "ax1[0].set_title('Distribution of Thumb angle', size=14)\n",
    "ax1[0].set_xlabel('Thumb angle (º)', size=12)\n",
    "ax1[0].set_ylabel('Frequency', size=12)\n",
    "\n",
    "data.indice.plot(kind='hist', bins=15, color='lightsteelblue', edgecolor='black', ax=ax1[1])\n",
    "ax1[1].set_title('Distribution of Index angle', size=14)\n",
    "ax1[1].set_xlabel('Index angle (º)', size=12)\n",
    "ax1[1].set_ylabel('Frequency', size=12)\n",
    "\n",
    "data.long.plot(kind='hist', bins=15, color='lightsteelblue', edgecolor='black', ax=ax1[2])\n",
    "ax1[2].set_title('Distribution of Long angle', size=14)\n",
    "ax1[2].set_xlabel('Long angle (º)', size=12)\n",
    "ax1[2].set_ylabel('Frequency', size=12)\n",
    "\n",
    "data.ring.plot(kind='hist', bins=15, color='lightsteelblue', edgecolor='black', ax=ax1[3])\n",
    "ax1[3].set_title('Distribution of Ring angle', size=14)\n",
    "ax1[3].set_xlabel('Ring angle (º)', size=12)\n",
    "ax1[3].set_ylabel('Frequency', size=12)\n",
    "\n",
    "data.small.plot(kind='hist', bins=15, color='lightsteelblue', edgecolor='black', ax=ax1[4])\n",
    "ax1[3].set_title('Distribution of Small angle', size=14)\n",
    "ax1[3].set_xlabel('Small angle (º)', size=12)\n",
    "ax1[3].set_ylabel('Frequency', size=12)\n",
    "\n",
    "data.thumb_bool.plot(kind='hist', bins=15, color='lightsteelblue', edgecolor='black', ax=ax2[0])\n",
    "ax2[0].set_title('Distribution of Thumb position', size=14)\n",
    "ax2[0].set_xlabel('Thumb position (0-closed/1-opened)', size=12)\n",
    "ax2[0].set_ylabel('Frequency', size=12)\n",
    "\n",
    "data.indice_bool.plot(kind='hist', bins=15, color='lightsteelblue', edgecolor='black', ax=ax2[1])\n",
    "ax2[1].set_title('Distribution of Index position', size=14)\n",
    "ax2[1].set_xlabel('Index position (0-closed/1-opened)', size=12)\n",
    "ax2[1].set_ylabel('Frequency', size=12)\n",
    "\n",
    "data.long_bool.plot(kind='hist', bins=15, color='lightsteelblue', edgecolor='black', ax=ax2[2])\n",
    "ax2[2].set_title('Distribution of Long position', size=14)\n",
    "ax2[2].set_xlabel('Long position (0-closed/1-opened)', size=12)\n",
    "ax2[2].set_ylabel('Frequency', size=12)\n",
    "\n",
    "data.ring_bool.plot(kind='hist', bins=15, color='lightsteelblue', edgecolor='black', ax=ax2[3])\n",
    "ax2[3].set_title('Distribution of Ring position', size=14)\n",
    "ax2[3].set_xlabel('Ring position (0-closed/1-opened)', size=12)\n",
    "ax2[3].set_ylabel('Frequency', size=12)\n",
    "\n",
    "data.small_bool.plot(kind='hist', bins=15, color='lightsteelblue', edgecolor='black', ax=ax2[4])\n",
    "ax2[4].set_title('Distribution of Small position', size=14)\n",
    "ax2[4].set_xlabel('Small position (0-closed/1-opened)', size=12)\n",
    "ax2[4].set_ylabel('Frequency', size=12)\n",
    "\n",
    "data.muscle1.plot(kind='hist', bins=15, color='lightsteelblue', edgecolor='black', ax=ax3[0])\n",
    "ax3[0].set_title('Distribution of Muscle1 activity', size=14)\n",
    "ax3[0].set_xlabel('Muscle1 EMG (uV)', size=12)\n",
    "ax3[0].set_ylabel('Frequency', size=12)\n",
    "\n",
    "data.muscle2.plot(kind='hist', bins=15, color='lightsteelblue', edgecolor='black', ax=ax3[1])\n",
    "ax3[1].set_title('Distribution of Muscle2 activity', size=14)\n",
    "ax3[1].set_xlabel('Muscle2 EMG (uV)', size=12)\n",
    "ax3[1].set_ylabel('Frequency', size=12)\n",
    "\n",
    "data.muscle3.plot(kind='hist', bins=15, color='lightsteelblue', edgecolor='black', ax=ax3[2])\n",
    "ax3[2].set_title('Distribution of Muscle3 angle', size=14)\n",
    "ax3[2].set_xlabel('Muscle3 EMG (uV)', size=12)\n",
    "ax3[2].set_ylabel('Frequency', size=12)\n",
    "\n",
    "data.muscle4.plot(kind='hist', bins=15, color='lightsteelblue', edgecolor='black', ax=ax3[3])\n",
    "ax3[3].set_title('Distribution of Muscle4 angle', size=14)\n",
    "ax3[3].set_xlabel('Muscle4 EMG (uV)', size=12)\n",
    "ax3[3].set_ylabel('Frequency', size=12)\n",
    "\n",
    "\n",
    "plt.show()"
   ]
  },
  {
   "cell_type": "markdown",
   "id": "5eb9518e-7103-46e2-83a5-446c639bb4a2",
   "metadata": {},
   "source": [
    "### Pairplot"
   ]
  },
  {
   "cell_type": "code",
   "execution_count": null,
   "id": "0e0ee102-f2f9-421b-919f-451dd9fc99dc",
   "metadata": {},
   "outputs": [],
   "source": [
    "sns.pairplot(data[['muscle1','muscle2','muscle3','muscle4','indice_bool']], corner=True, grid_kws={'despine': False}, diag_kind=None, hue=\"indice_bool\");"
   ]
  },
  {
   "cell_type": "markdown",
   "id": "81446cc4-3a43-4e8c-a3d0-65b0de44a7e5",
   "metadata": {},
   "source": [
    "### Correlation matrix\n",
    "Tips:\n",
    "* Selecting only moderate to strong relations with target value\n",
    "* Remove strongly correlated features"
   ]
  },
  {
   "cell_type": "code",
   "execution_count": null,
   "id": "64fde0d4-4e9f-45b8-8419-5fdd8cbe4a5e",
   "metadata": {},
   "outputs": [],
   "source": [
    "corrmat = data[['muscle1','muscle2','muscle3','muscle4']].corr(numeric_only=True)\n",
    "sns.heatmap(corrmat, annot=True, square=True, cmap=\"coolwarm\", center=0);"
   ]
  },
  {
   "cell_type": "markdown",
   "id": "c0bb5ecf-c409-466c-aa85-75eba6fbbbe4",
   "metadata": {},
   "source": [
    "### Checking variance of all features\n",
    "Set a threshold value and remove features accordingly (very low variance accross all samples means no predictive power)"
   ]
  },
  {
   "cell_type": "code",
   "execution_count": null,
   "id": "70e63c88-761c-4831-b3d4-98307943baa4",
   "metadata": {},
   "outputs": [],
   "source": [
    "data[['muscle1','muscle2','muscle3','muscle4']].var()"
   ]
  },
  {
   "cell_type": "code",
   "execution_count": null,
   "id": "5b378b29-04b0-4525-93d2-0fd282d5eca0",
   "metadata": {},
   "outputs": [],
   "source": [
    "data[['muscle1','muscle2','muscle3','muscle4']].var() > 100"
   ]
  },
  {
   "cell_type": "markdown",
   "id": "f52c942e-8a6b-42e3-a7dd-a7800d210cef",
   "metadata": {},
   "source": [
    "## Linear Regression"
   ]
  },
  {
   "cell_type": "markdown",
   "id": "253c9bf1-f50a-4f65-8dbb-aa8a2cda264b",
   "metadata": {},
   "source": [
    "### Model Training"
   ]
  },
  {
   "cell_type": "markdown",
   "id": "90382a08-4c87-43b2-8793-6be8b9644693",
   "metadata": {},
   "source": [
    "#### Train-test splitting"
   ]
  },
  {
   "cell_type": "code",
   "execution_count": null,
   "id": "dab4a8fb-d7a1-4a9b-943f-be24a96594fd",
   "metadata": {},
   "outputs": [],
   "source": [
    "X = data[['muscle1','muscle2','muscle3','muscle4']]\n",
    "y = data[['thumb','indice','long','ring','small']]\n",
    "\n",
    "# Divide dataset into train and test subsets\n",
    "X_train, X_test, y_train, y_test = train_test_split(X, y, test_size=0.2, random_state=42)\n",
    "print(X_train.shape)\n",
    "print(y_train.shape)\n",
    "print(X_test.shape)\n",
    "print(y_test.shape)"
   ]
  },
  {
   "cell_type": "markdown",
   "id": "1bd046a8-d821-4a2b-897a-403ef3b6c96e",
   "metadata": {},
   "source": [
    "#### Feature sclaing (Standarization or Normalization)"
   ]
  },
  {
   "cell_type": "code",
   "execution_count": null,
   "id": "044c4eb2-885f-4e15-87d7-b3c248673e7b",
   "metadata": {},
   "outputs": [],
   "source": [
    "# Standarization\n",
    "'''\n",
    "feature_scaler = StandardScaler().fit(X_train)\n",
    "target_scaler = StandardScaler().fit(y_train)\n",
    "\n",
    "scaled_X_train = feature_scaler.transform(X_train)\n",
    "scaled_X_test = feature_scaler.transform(X_test)\n",
    "\n",
    "#scaled_y_train = target_scaler.transform(y_train)\n",
    "#scaled_y_test = target_scaler.transform(y_test)\n",
    "'''\n",
    "\n",
    "# Normalization\n",
    "feature_scaler = MinMaxScaler().fit(X_train)\n",
    "#target_scaler = MinMaxScaler().fit(y_train)\n",
    "\n",
    "scaled_X_train = feature_scaler.transform(X_train)\n",
    "scaled_X_test = feature_scaler.transform(X_test)\n",
    "\n",
    "#scaled_y_train = target_scaler.transform(y_train)\n",
    "#scaled_y_test = target_scaler.transform(y_test)"
   ]
  },
  {
   "cell_type": "markdown",
   "id": "5efc9797-af73-419e-8623-82d87168739a",
   "metadata": {},
   "source": [
    "#### Create model"
   ]
  },
  {
   "cell_type": "code",
   "execution_count": null,
   "id": "a5b71a6b-d74a-4893-bf2e-2b47dbbade45",
   "metadata": {},
   "outputs": [],
   "source": [
    "lr_model = LinearRegression()"
   ]
  },
  {
   "cell_type": "markdown",
   "id": "5aef36f5-3a02-40f9-8778-a13144a96e32",
   "metadata": {},
   "source": [
    "#### Train model"
   ]
  },
  {
   "cell_type": "code",
   "execution_count": null,
   "id": "2fe2bbad-c188-422d-8f0f-1591cdadab87",
   "metadata": {},
   "outputs": [],
   "source": [
    "lr_model.fit(X_train, y_train)"
   ]
  },
  {
   "cell_type": "code",
   "execution_count": null,
   "id": "52d87500-490e-4fd6-a99f-a68973b1ff06",
   "metadata": {},
   "outputs": [],
   "source": [
    "lr_model.intercept_"
   ]
  },
  {
   "cell_type": "code",
   "execution_count": null,
   "id": "dfcc931a-85b1-453e-befe-5749c4a628c4",
   "metadata": {
    "tags": []
   },
   "outputs": [],
   "source": [
    "lr_model.coef_"
   ]
  },
  {
   "cell_type": "markdown",
   "id": "5ed24a37-682b-430b-b34b-e6a7deb28996",
   "metadata": {},
   "source": [
    "### Model Evaluation"
   ]
  },
  {
   "cell_type": "markdown",
   "id": "8cfe46c5-2659-41dd-8a72-507df4c3e008",
   "metadata": {
    "tags": []
   },
   "source": [
    "#### Predict with the model"
   ]
  },
  {
   "cell_type": "code",
   "execution_count": null,
   "id": "9f8c25bd-a7fe-47c3-84d0-8ab302c4a4ec",
   "metadata": {},
   "outputs": [],
   "source": [
    "y_pred = lr_model.predict(X_test)\n",
    "y_pred = pd.DataFrame(y_pred, columns=y_test.columns)"
   ]
  },
  {
   "cell_type": "code",
   "execution_count": null,
   "id": "794a643b-4801-49a3-9ae8-6d90ef77dab9",
   "metadata": {},
   "outputs": [],
   "source": [
    "y_pred.to_csv(\"y_pred\", index=False)"
   ]
  },
  {
   "cell_type": "code",
   "execution_count": null,
   "id": "fb5afd9d-dd96-45e2-a74e-e14160e24026",
   "metadata": {},
   "outputs": [],
   "source": [
    "y_test.to_csv(\"y_test\", index=False)"
   ]
  },
  {
   "cell_type": "markdown",
   "id": "29ec1605-db1b-468a-af6f-76578632af3c",
   "metadata": {},
   "source": [
    "### Scores and Plotting function"
   ]
  },
  {
   "cell_type": "code",
   "execution_count": null,
   "id": "b03f7eda-c8e8-430a-8fc3-6bb1c660666c",
   "metadata": {},
   "outputs": [],
   "source": [
    "def scores(y_test, y_pred):\n",
    "    print(\"Model performance on test data\\n\",\n",
    "          f\"- Explained variance score: {metrics.explained_variance_score(y_test, y_pred):.4f}\\n\",\n",
    "          f\"- Max error:                {metrics.max_error(y_test, y_pred):.4f}\\n\",\n",
    "          f\"- Mean absolute error:      {metrics.mean_absolute_error(y_test, y_pred):.4f}\\n\",\n",
    "          f\"- Mean squared error:       {metrics.mean_squared_error(y_test, y_pred):.4f}\\n\",\n",
    "          f\"- Median absolute error:    {metrics.median_absolute_error(y_test, y_pred):.4f}\\n\",\n",
    "          f\"- R2 score:                 {metrics.r2_score(y_test, y_pred):.4f}\\n\",\n",
    "          )"
   ]
  },
  {
   "cell_type": "code",
   "execution_count": null,
   "id": "4b68e9c9-933b-4a53-8bf5-e2121a9d2bbc",
   "metadata": {},
   "outputs": [],
   "source": [
    "def plot_vector(y_values, color='b', label=None):\n",
    "    x_values = range(len(y_values))\n",
    "    plt.plot(x_values, y_values, color=color, label=label)\n",
    "    plt.xlabel('Index')\n",
    "    plt.ylabel('Y Values')\n",
    "    plt.grid(True)\n",
    "    plt.legend()"
   ]
  },
  {
   "cell_type": "markdown",
   "id": "5000c8dc-080a-40d9-bc42-03de89500eb1",
   "metadata": {
    "tags": []
   },
   "source": [
    "#### Evaluate All"
   ]
  },
  {
   "cell_type": "code",
   "execution_count": null,
   "id": "b81839f3-bc36-4057-8212-fe3d68c7126e",
   "metadata": {},
   "outputs": [],
   "source": [
    "print(\"Model performance on test data\\n\",\n",
    "      f\"- Explained variance score: {metrics.explained_variance_score(y_test, y_pred):.4f}\\n\",\n",
    "      f\"- Mean absolute error:      {metrics.mean_absolute_error(y_test, y_pred):.4f}\\n\",\n",
    "      f\"- Mean squared error:       {metrics.mean_squared_error(y_test, y_pred):.4f}\\n\",\n",
    "      f\"- Median absolute error:    {metrics.median_absolute_error(y_test, y_pred):.4f}\\n\",\n",
    "      f\"- R2 score:                 {metrics.r2_score(y_test, y_pred):.4f}\\n\",\n",
    "      )"
   ]
  },
  {
   "cell_type": "markdown",
   "id": "b770e069-8524-42f4-8532-a8294109c2ef",
   "metadata": {
    "tags": []
   },
   "source": [
    "#### Evaluate Thumb"
   ]
  },
  {
   "cell_type": "code",
   "execution_count": null,
   "id": "aa14c59b-6d11-435d-988f-80485f69156b",
   "metadata": {},
   "outputs": [],
   "source": [
    "scores(y_test.thumb, y_pred.thumb)"
   ]
  },
  {
   "cell_type": "code",
   "execution_count": null,
   "id": "84b0da0b-0e2f-49ef-8be4-2af8f4621b8a",
   "metadata": {},
   "outputs": [],
   "source": [
    "plot_vector(y_test.thumb, color='r', label='Test')\n",
    "plot_vector(y_pred.thumb, color='g', label='Pred')\n",
    "plt.title('Thumb')\n",
    "plt.show()"
   ]
  },
  {
   "cell_type": "code",
   "execution_count": null,
   "id": "cc2c20d0-1d9c-4476-a586-a17f1321de01",
   "metadata": {},
   "outputs": [],
   "source": [
    "# Calculate the correlation coefficient\n",
    "correlation_coefficient = np.corrcoef(y_test.thumb, y_pred.thumb)[0, 1]\n",
    "\n",
    "print(\"Correlation coefficient: {:.2f}\".format(correlation_coefficient))"
   ]
  },
  {
   "cell_type": "markdown",
   "id": "efdd5177-198e-46a9-b2c3-5b7d2adb9c2c",
   "metadata": {
    "tags": []
   },
   "source": [
    "#### Evaluate Index"
   ]
  },
  {
   "cell_type": "code",
   "execution_count": null,
   "id": "5151e80c-1950-4704-b359-8d35ee0d6004",
   "metadata": {},
   "outputs": [],
   "source": [
    "scores(y_test.indice, y_pred.indice)"
   ]
  },
  {
   "cell_type": "code",
   "execution_count": null,
   "id": "b53ca5b3-d02a-4678-8766-47e5caa3bc02",
   "metadata": {},
   "outputs": [],
   "source": [
    "plot_vector(y_test.indice, color='r', label='Test')\n",
    "plot_vector(y_pred.indice, color='g', label='Pred')\n",
    "plt.title('Index')\n",
    "plt.show()"
   ]
  },
  {
   "cell_type": "code",
   "execution_count": null,
   "id": "8e792f12-0995-44da-a389-32d5c285e40a",
   "metadata": {},
   "outputs": [],
   "source": [
    "# Calculate the correlation coefficient\n",
    "correlation_coefficient = np.corrcoef(y_test.indice, y_pred.indice)[0, 1]\n",
    "\n",
    "print(\"Correlation coefficient: {:.2f}\".format(correlation_coefficient))"
   ]
  },
  {
   "cell_type": "markdown",
   "id": "2aa5eb36-c669-4374-bf2c-b734bb53da4e",
   "metadata": {
    "tags": []
   },
   "source": [
    "#### Evaluate Long"
   ]
  },
  {
   "cell_type": "code",
   "execution_count": null,
   "id": "e1c8e3fa-090c-4c34-b494-498cfa8d9eea",
   "metadata": {},
   "outputs": [],
   "source": [
    "scores(y_test.long, y_pred.long)"
   ]
  },
  {
   "cell_type": "code",
   "execution_count": null,
   "id": "422bced7-9096-4acf-9645-d6a55dae912d",
   "metadata": {},
   "outputs": [],
   "source": [
    "plot_vector(y_test.long, color='r', label='Test')\n",
    "plot_vector(y_pred.long, color='g', label='Pred')\n",
    "plt.title('Long')\n",
    "plt.show()"
   ]
  },
  {
   "cell_type": "code",
   "execution_count": null,
   "id": "f1b4dbe5-d1ae-4b51-9e7e-497308a34e91",
   "metadata": {},
   "outputs": [],
   "source": [
    "# Calculate the correlation coefficient\n",
    "correlation_coefficient = np.corrcoef(y_test.long, y_pred.long)[0, 1]\n",
    "\n",
    "print(\"Correlation coefficient: {:.2f}\".format(correlation_coefficient))"
   ]
  },
  {
   "cell_type": "markdown",
   "id": "44aa8bee-83bb-476b-9e96-757f62b061ff",
   "metadata": {
    "tags": []
   },
   "source": [
    "#### Evaluate Ring"
   ]
  },
  {
   "cell_type": "code",
   "execution_count": null,
   "id": "abee5386-1a03-491c-8e20-deaa3b8eac66",
   "metadata": {},
   "outputs": [],
   "source": [
    "scores(y_test.ring, y_pred.ring)"
   ]
  },
  {
   "cell_type": "code",
   "execution_count": null,
   "id": "403481d4-f143-4803-971e-d1263e010201",
   "metadata": {},
   "outputs": [],
   "source": [
    "plot_vector(y_test.ring, color='r', label='Test')\n",
    "plot_vector(y_pred.ring, color='g', label='Pred')\n",
    "plt.title('Ring')\n",
    "plt.show()"
   ]
  },
  {
   "cell_type": "code",
   "execution_count": null,
   "id": "8c610c61-8478-449c-9334-4b81b6adb8d8",
   "metadata": {},
   "outputs": [],
   "source": [
    "# Calculate the correlation coefficient\n",
    "correlation_coefficient = np.corrcoef(y_test.ring, y_pred.ring)[0, 1]\n",
    "\n",
    "print(\"Correlation coefficient: {:.2f}\".format(correlation_coefficient))"
   ]
  },
  {
   "cell_type": "markdown",
   "id": "b69e5493-4c5f-4030-acdf-eb0ab1c56f2f",
   "metadata": {
    "tags": []
   },
   "source": [
    "#### Evaluate Small"
   ]
  },
  {
   "cell_type": "code",
   "execution_count": null,
   "id": "d93772a3-c6b7-47c4-bfcc-fdaf8f13dfc0",
   "metadata": {},
   "outputs": [],
   "source": [
    "scores(y_test.small, y_pred.small)"
   ]
  },
  {
   "cell_type": "code",
   "execution_count": null,
   "id": "bba3cc52-e647-455b-a56a-4a98257fb959",
   "metadata": {},
   "outputs": [],
   "source": [
    "plot_vector(y_test.small, color='r', label='Test')\n",
    "plot_vector(y_pred.small, color='g', label='Pred')\n",
    "plt.title('Small')\n",
    "plt.show()"
   ]
  },
  {
   "cell_type": "code",
   "execution_count": null,
   "id": "d5961172-c791-432d-a587-88216bd87960",
   "metadata": {},
   "outputs": [],
   "source": [
    "# Calculate the correlation coefficient\n",
    "correlation_coefficient = np.corrcoef(y_test.small, y_pred.small)[0, 1]\n",
    "\n",
    "print(\"Correlation coefficient: {:.2f}\".format(correlation_coefficient))"
   ]
  },
  {
   "cell_type": "markdown",
   "id": "4613e235-f5ed-456c-aa5d-a59074549731",
   "metadata": {},
   "source": [
    "### Save model"
   ]
  },
  {
   "cell_type": "code",
   "execution_count": null,
   "id": "8c137076-7b2e-4926-a297-b6e9448cb9bb",
   "metadata": {},
   "outputs": [],
   "source": [
    "joblib.dump(lr_model, 'model/lr_model.pkl')"
   ]
  },
  {
   "cell_type": "markdown",
   "id": "83058276-4cc6-41ef-90b0-d3d8aabbca82",
   "metadata": {},
   "source": [
    "\"Re-train with all data\" & save:"
   ]
  },
  {
   "cell_type": "code",
   "execution_count": null,
   "id": "31418dc6-350e-4244-b08c-78b9edece7e1",
   "metadata": {},
   "outputs": [],
   "source": [
    "lr_model_full = LinearRegression()\n",
    "lr_model_full.fit(X, y)\n",
    "joblib.dump(lr_model_full, 'model/lr_model_full.pkl')"
   ]
  },
  {
   "cell_type": "markdown",
   "id": "a9fdb00a-1fa5-4577-a42b-541218cab3fd",
   "metadata": {},
   "source": [
    "## LDA"
   ]
  },
  {
   "cell_type": "markdown",
   "id": "270253f5-a831-4b23-90e2-e4b35cf65478",
   "metadata": {},
   "source": [
    "### Evaluate function"
   ]
  },
  {
   "cell_type": "code",
   "execution_count": null,
   "id": "475d40a3-f564-49db-bdbb-68095d01a4be",
   "metadata": {},
   "outputs": [],
   "source": [
    "def evaluate_classifier_extended(model, X_train,X_test,y_train,y_test):\n",
    "\n",
    "    y_pred = model.predict(X_test)\n",
    "    \n",
    "    # Average scores\n",
    "    print(\"Model performance on test data\\n\",\n",
    "          f\"- Accuracy:  {metrics.accuracy_score(y_test, y_pred):.4f}\\n\",\n",
    "          f\"- Precision: {metrics.precision_score(y_test, y_pred, average='weighted'):.4f}\\n\",\n",
    "          f\"- Recall:    {metrics.recall_score(y_test, y_pred, average='weighted'):.4f}\\n\",\n",
    "          f\"- F1 score:  {metrics.f1_score(y_test, y_pred, average='weighted'):.4f}\\n\",\n",
    "          )\n",
    "    # Scores for each class\n",
    "    print(\"Model precision on test data for each class: \"\n",
    "          \"{:.4f} {:.4f}\".format(*metrics.precision_score(y_test, y_pred, average=None)))\n",
    "    \n",
    "    # Confussion matrix\n",
    "    cm = confusion_matrix(model,\n",
    "                          X_train,\n",
    "                          y_train,\n",
    "                          X_test,\n",
    "                          y_test,\n",
    "                          is_fitted=True,\n",
    "                          support=True,\n",
    "                          cmap='RdYlGn')\n",
    "    \n",
    "    # Report\n",
    "    print(classification_report(y_pred, y_test))\n",
    "    \n",
    "    # ROC and precision-recall curves\n",
    "        # ROC Curves\n",
    "    roc_viz = ROCAUC(model,\n",
    "                     is_fitted=True,\n",
    "                     per_class=True,\n",
    "                     micro=False,\n",
    "                     macro=False,\n",
    "                     size=(900, 500))\n",
    "    roc_viz.fit(X_train, y_train)\n",
    "    roc_viz.score(X_test, y_test)\n",
    "    roc_viz.show();\n",
    "        # Precision-Recall Curve\n",
    "    encoder = LabelEncoder()\n",
    "    encoded_y_train = encoder.fit_transform(y_train)\n",
    "    pr_viz = PrecisionRecallCurve(model,\n",
    "                                  classes=encoder.classes_,\n",
    "                                  iso_f1_curves=True,\n",
    "                                  per_class=True,\n",
    "                                  micro=False,\n",
    "                                  size=(900, 500))\n",
    "    pr_viz.fit(X_train, y_train)\n",
    "    pr_viz.score(X_test, y_test)\n",
    "    pr_viz.show()\n",
    "    \n",
    "    # Decision Boundaries\n",
    "    selected_features = X_train.columns[[0,2]]\n",
    "    \n",
    "    model = model.fit(np.array(X_train[X_train.columns[0:2]]), y_train)\n",
    "\n",
    "    N = 300\n",
    "    X = np.linspace(np.floor(min(X_train[selected_features[0]])) - 0.2,\n",
    "                    np.ceil(max(X_train[selected_features[0]]))+0.2,\n",
    "                    N)\n",
    "    Y = np.linspace(np.floor(min(X_train[selected_features[1]])) - 0.2,\n",
    "                    np.ceil(max(X_train[selected_features[1]]))+0.2,\n",
    "                    N)\n",
    "    X, Y = np.meshgrid(X, Y)\n",
    "    \n",
    "    X_train_help = X_train.copy()\n",
    "    \n",
    "    y_train_boolean = [False if value==0 else True for value in y_train]\n",
    "    \n",
    "    X_train_help[\"IMP_GT5\"] = y_train_boolean\n",
    "\n",
    "    g = sns.FacetGrid(X_train_help,\n",
    "                      hue=\"IMP_GT5\",\n",
    "                      height=5).map(plt.scatter,\n",
    "                                    selected_features[0],\n",
    "                                    selected_features[1]).add_legend()\n",
    "    zz = np.array([model.predict(np.array([[xx, yy]]))\n",
    "                  for xx, yy in zip(np.ravel(X), np.ravel(Y))])\n",
    "    Z = zz.reshape(X.shape)\n",
    "\n",
    "    # Plot the filled and boundary contours\n",
    "    g.ax.contourf(X, Y, Z, 2, alpha=.1, colors=('blue', 'orange', 'green'))\n",
    "    g.ax.contour(X, Y, Z, 2, alpha=1, colors=('blue', 'orange', 'green'))\n",
    "\n",
    "    # Add axis and title\n",
    "    g.ax.set_xlabel(selected_features[0])\n",
    "    g.ax.set_ylabel(selected_features[1])\n",
    "    g.ax.set_title('Decision Boundaries with Train Data Scaled')\n",
    "    g.fig.set_figheight(8)\n",
    "    g.fig.set_figwidth(12)\n",
    "    \n",
    "    return model"
   ]
  },
  {
   "cell_type": "markdown",
   "id": "9d36cc8d-dbe0-4b20-8408-e94c14f586d7",
   "metadata": {},
   "source": [
    "### Thumb"
   ]
  },
  {
   "cell_type": "markdown",
   "id": "f4e461d4-0ea9-4f37-b7cb-852bdd4c59ca",
   "metadata": {},
   "source": [
    "#### Train-test splitting"
   ]
  },
  {
   "cell_type": "code",
   "execution_count": null,
   "id": "538fcba3-51a0-4c45-a1c3-b3d1f16f2b0a",
   "metadata": {},
   "outputs": [],
   "source": [
    "X = data[['muscle1','muscle2','muscle3','muscle4']]\n",
    "y = data['thumb_bool']\n",
    "\n",
    "# Divide dataset into train and test subsets\n",
    "X_train, X_test, y_train, y_test = train_test_split(X, y, test_size=0.2, random_state=42)\n",
    "print(X_train.shape)\n",
    "print(y_train.shape)\n",
    "print(X_test.shape)\n",
    "print(y_test.shape)"
   ]
  },
  {
   "cell_type": "markdown",
   "id": "c0b89cf4-889c-4c0d-8905-c36c8e85a567",
   "metadata": {
    "tags": []
   },
   "source": [
    "#### Feature scaling (Standarization or Normalization)"
   ]
  },
  {
   "cell_type": "code",
   "execution_count": null,
   "id": "70daea6a-9f9d-46de-8264-69cae3b42a59",
   "metadata": {},
   "outputs": [],
   "source": [
    "# Standarization\n",
    "'''\n",
    "feature_scaler = StandardScaler().fit(X_train)\n",
    "target_scaler = StandardScaler().fit(y_train)\n",
    "\n",
    "scaled_X_train = feature_scaler.transform(X_train)\n",
    "scaled_X_test = feature_scaler.transform(X_test)\n",
    "\n",
    "#scaled_y_train = target_scaler.transform(y_train)\n",
    "#scaled_y_test = target_scaler.transform(y_test)\n",
    "'''\n",
    "\n",
    "# Normalization\n",
    "feature_scaler = MinMaxScaler().fit(X_train)\n",
    "#target_scaler = MinMaxScaler().fit(y_train)\n",
    "\n",
    "scaled_X_train = feature_scaler.transform(X_train)\n",
    "scaled_X_test = feature_scaler.transform(X_test)\n",
    "\n",
    "#scaled_y_train = target_scaler.transform(y_train)\n",
    "#scaled_y_test = target_scaler.transform(y_test)"
   ]
  },
  {
   "cell_type": "markdown",
   "id": "f8e09d6c-081f-41c9-ae68-a1f873ccfb64",
   "metadata": {},
   "source": [
    "#### Create model"
   ]
  },
  {
   "cell_type": "code",
   "execution_count": null,
   "id": "96a5c325-f9f0-4eb8-91eb-98552f411f8d",
   "metadata": {},
   "outputs": [],
   "source": [
    "lda_thumb = LinearDiscriminantAnalysis()"
   ]
  },
  {
   "cell_type": "markdown",
   "id": "31a1c838-36f5-46f4-b479-03e92289b674",
   "metadata": {},
   "source": [
    "#### Train model"
   ]
  },
  {
   "cell_type": "code",
   "execution_count": null,
   "id": "6eb20f24-7b7c-4b2e-9640-9a4d024fc7a1",
   "metadata": {},
   "outputs": [],
   "source": [
    "y_pred = lda_thumb.fit(X_train, np.ravel(y_train)).predict(X_test)"
   ]
  },
  {
   "cell_type": "markdown",
   "id": "f05c818e-a06f-4c36-a68c-0872c1f4b022",
   "metadata": {
    "tags": []
   },
   "source": [
    "#### Evaluate model"
   ]
  },
  {
   "cell_type": "code",
   "execution_count": null,
   "id": "f9d14219-5d7f-4cdc-9208-57aabd23019a",
   "metadata": {},
   "outputs": [],
   "source": [
    "evaluate_classifier_extended(lda_thumb, X_train,X_test,y_train,y_test)"
   ]
  },
  {
   "cell_type": "markdown",
   "id": "d75c2a30-33f3-4c59-a43c-a367f0142330",
   "metadata": {},
   "source": [
    "### Index"
   ]
  },
  {
   "cell_type": "markdown",
   "id": "cf594f40-066c-4d7d-bcc8-4dcc633f598a",
   "metadata": {},
   "source": [
    "#### Train-test splitting"
   ]
  },
  {
   "cell_type": "code",
   "execution_count": null,
   "id": "fff98adc-e91b-43e5-9216-b76c2d5753f4",
   "metadata": {},
   "outputs": [],
   "source": [
    "X = data[['muscle1','muscle2','muscle3','muscle4']]\n",
    "y = data['indice_bool']\n",
    "\n",
    "# Divide dataset into train and test subsets\n",
    "X_train, X_test, y_train, y_test = train_test_split(X, y, test_size=0.2, random_state=42)\n",
    "print(X_train.shape)\n",
    "print(y_train.shape)\n",
    "print(X_test.shape)\n",
    "print(y_test.shape)"
   ]
  },
  {
   "cell_type": "markdown",
   "id": "20712ef0-4748-43b7-bddb-cef447221b2d",
   "metadata": {
    "tags": []
   },
   "source": [
    "#### Feature scaling (Standarization or Normalization)"
   ]
  },
  {
   "cell_type": "code",
   "execution_count": null,
   "id": "e9e0ae07-2103-4a71-87e9-b5feab492b84",
   "metadata": {},
   "outputs": [],
   "source": [
    "# Standarization\n",
    "'''\n",
    "feature_scaler = StandardScaler().fit(X_train)\n",
    "target_scaler = StandardScaler().fit(y_train)\n",
    "\n",
    "scaled_X_train = feature_scaler.transform(X_train)\n",
    "scaled_X_test = feature_scaler.transform(X_test)\n",
    "\n",
    "#scaled_y_train = target_scaler.transform(y_train)\n",
    "#scaled_y_test = target_scaler.transform(y_test)\n",
    "'''\n",
    "\n",
    "# Normalization\n",
    "feature_scaler = MinMaxScaler().fit(X_train)\n",
    "#target_scaler = MinMaxScaler().fit(y_train)\n",
    "\n",
    "scaled_X_train = feature_scaler.transform(X_train)\n",
    "scaled_X_test = feature_scaler.transform(X_test)\n",
    "\n",
    "#scaled_y_train = target_scaler.transform(y_train)\n",
    "#scaled_y_test = target_scaler.transform(y_test)"
   ]
  },
  {
   "cell_type": "markdown",
   "id": "67ba5980-6582-445a-be86-3023c3f2c732",
   "metadata": {},
   "source": [
    "#### Create model"
   ]
  },
  {
   "cell_type": "code",
   "execution_count": null,
   "id": "2087cdda-fb1b-463c-88cc-9772c9d84698",
   "metadata": {},
   "outputs": [],
   "source": [
    "lda_index = LinearDiscriminantAnalysis()"
   ]
  },
  {
   "cell_type": "markdown",
   "id": "902de6fc-2cc1-4dd5-bace-c62436b18347",
   "metadata": {},
   "source": [
    "#### Train model"
   ]
  },
  {
   "cell_type": "code",
   "execution_count": null,
   "id": "11e5eefe-38a5-4a9c-adb1-a3ac98d8c5d1",
   "metadata": {},
   "outputs": [],
   "source": [
    "y_pred = lda_index.fit(X_train, np.ravel(y_train)).predict(X_test)"
   ]
  },
  {
   "cell_type": "markdown",
   "id": "07fb3c53-1dcd-407c-82ce-1d310e323410",
   "metadata": {
    "tags": []
   },
   "source": [
    "#### Evaluate model"
   ]
  },
  {
   "cell_type": "code",
   "execution_count": null,
   "id": "daa30d78-6a14-4ccd-b6e3-ed6608a85a23",
   "metadata": {},
   "outputs": [],
   "source": [
    "evaluate_classifier_extended(lda_index, X_train,X_test,y_train,y_test)"
   ]
  },
  {
   "cell_type": "markdown",
   "id": "c0206f5e-45c4-4262-b99f-3a606045f751",
   "metadata": {},
   "source": [
    "### Long"
   ]
  },
  {
   "cell_type": "markdown",
   "id": "1c101381-bbdf-48bb-99c1-a710d8b2e580",
   "metadata": {},
   "source": [
    "#### Train-test splitting"
   ]
  },
  {
   "cell_type": "code",
   "execution_count": null,
   "id": "40d02c55-d6b2-4107-b476-028ee36e87e6",
   "metadata": {},
   "outputs": [],
   "source": [
    "X = data[['muscle1','muscle2','muscle3','muscle4']]\n",
    "y = data['long_bool']\n",
    "\n",
    "# Divide dataset into train and test subsets\n",
    "X_train, X_test, y_train, y_test = train_test_split(X, y, test_size=0.2, random_state=42)\n",
    "print(X_train.shape)\n",
    "print(y_train.shape)\n",
    "print(X_test.shape)\n",
    "print(y_test.shape)"
   ]
  },
  {
   "cell_type": "markdown",
   "id": "b559318a-f860-42e9-a1c7-923ae53c1e81",
   "metadata": {
    "tags": []
   },
   "source": [
    "#### Feature scaling (Standarization or Normalization)"
   ]
  },
  {
   "cell_type": "code",
   "execution_count": null,
   "id": "24da8c6c-8b1a-41ac-9bb6-52c2d70f2c83",
   "metadata": {},
   "outputs": [],
   "source": [
    "# Standarization\n",
    "'''\n",
    "feature_scaler = StandardScaler().fit(X_train)\n",
    "target_scaler = StandardScaler().fit(y_train)\n",
    "\n",
    "scaled_X_train = feature_scaler.transform(X_train)\n",
    "scaled_X_test = feature_scaler.transform(X_test)\n",
    "\n",
    "#scaled_y_train = target_scaler.transform(y_train)\n",
    "#scaled_y_test = target_scaler.transform(y_test)\n",
    "'''\n",
    "\n",
    "# Normalization\n",
    "feature_scaler = MinMaxScaler().fit(X_train)\n",
    "#target_scaler = MinMaxScaler().fit(y_train)\n",
    "\n",
    "scaled_X_train = feature_scaler.transform(X_train)\n",
    "scaled_X_test = feature_scaler.transform(X_test)\n",
    "\n",
    "#scaled_y_train = target_scaler.transform(y_train)\n",
    "#scaled_y_test = target_scaler.transform(y_test)"
   ]
  },
  {
   "cell_type": "markdown",
   "id": "eb658d0d-ac1a-418c-b834-c21bf24b2a23",
   "metadata": {},
   "source": [
    "#### Create model"
   ]
  },
  {
   "cell_type": "code",
   "execution_count": null,
   "id": "15a73125-5c35-4eda-96d9-cb9d11a19dfe",
   "metadata": {},
   "outputs": [],
   "source": [
    "lda_long = LinearDiscriminantAnalysis()"
   ]
  },
  {
   "cell_type": "markdown",
   "id": "6046ee39-a164-4990-ada9-33ff76b6f494",
   "metadata": {},
   "source": [
    "#### Train model"
   ]
  },
  {
   "cell_type": "code",
   "execution_count": null,
   "id": "5e04fed1-85b7-48fe-91d4-6f14b7d39717",
   "metadata": {},
   "outputs": [],
   "source": [
    "y_pred = lda_long.fit(X_train, np.ravel(y_train)).predict(X_test)"
   ]
  },
  {
   "cell_type": "markdown",
   "id": "493ca423-7139-4a87-81f1-974379b8d714",
   "metadata": {
    "tags": []
   },
   "source": [
    "#### Evaluate model"
   ]
  },
  {
   "cell_type": "code",
   "execution_count": null,
   "id": "8e6fd458-3cb0-4cf7-afdd-04820441d5a7",
   "metadata": {},
   "outputs": [],
   "source": [
    "evaluate_classifier_extended(lda_long, X_train,X_test,y_train,y_test)"
   ]
  },
  {
   "cell_type": "markdown",
   "id": "dae1ef7c-b089-4bd7-b972-dfa5a546ff7c",
   "metadata": {},
   "source": [
    "### Ring"
   ]
  },
  {
   "cell_type": "markdown",
   "id": "dc944643-458e-4c1a-bd44-75c84effbd36",
   "metadata": {},
   "source": [
    "#### Train-test splitting"
   ]
  },
  {
   "cell_type": "code",
   "execution_count": null,
   "id": "1b8a0fe0-a5e0-4648-bb2c-e1b6440c5313",
   "metadata": {},
   "outputs": [],
   "source": [
    "X = data[['muscle1','muscle2','muscle3','muscle4']]\n",
    "y = data['ring_bool']\n",
    "\n",
    "# Divide dataset into train and test subsets\n",
    "X_train, X_test, y_train, y_test = train_test_split(X, y, test_size=0.2, random_state=42)\n",
    "print(X_train.shape)\n",
    "print(y_train.shape)\n",
    "print(X_test.shape)\n",
    "print(y_test.shape)"
   ]
  },
  {
   "cell_type": "markdown",
   "id": "de1c489e-c1c3-4ef8-b1dd-8035aaec53bd",
   "metadata": {
    "tags": []
   },
   "source": [
    "#### Feature scaling (Standarization or Normalization)"
   ]
  },
  {
   "cell_type": "code",
   "execution_count": null,
   "id": "b1ffcb62-afa5-4501-adfd-4b71583e5417",
   "metadata": {},
   "outputs": [],
   "source": [
    "# Standarization\n",
    "'''\n",
    "feature_scaler = StandardScaler().fit(X_train)\n",
    "target_scaler = StandardScaler().fit(y_train)\n",
    "\n",
    "scaled_X_train = feature_scaler.transform(X_train)\n",
    "scaled_X_test = feature_scaler.transform(X_test)\n",
    "\n",
    "#scaled_y_train = target_scaler.transform(y_train)\n",
    "#scaled_y_test = target_scaler.transform(y_test)\n",
    "'''\n",
    "\n",
    "# Normalization\n",
    "feature_scaler = MinMaxScaler().fit(X_train)\n",
    "#target_scaler = MinMaxScaler().fit(y_train)\n",
    "\n",
    "scaled_X_train = feature_scaler.transform(X_train)\n",
    "scaled_X_test = feature_scaler.transform(X_test)\n",
    "\n",
    "#scaled_y_train = target_scaler.transform(y_train)\n",
    "#scaled_y_test = target_scaler.transform(y_test)"
   ]
  },
  {
   "cell_type": "markdown",
   "id": "ebdf671a-06a6-4030-a35e-17ad21c178b1",
   "metadata": {},
   "source": [
    "#### Create model"
   ]
  },
  {
   "cell_type": "code",
   "execution_count": null,
   "id": "6e0e9314-ef25-403f-808b-28c188ccb060",
   "metadata": {},
   "outputs": [],
   "source": [
    "lda_ring = LinearDiscriminantAnalysis()"
   ]
  },
  {
   "cell_type": "markdown",
   "id": "1e764b88-7baa-4a21-821b-10c83422c881",
   "metadata": {},
   "source": [
    "#### Train model"
   ]
  },
  {
   "cell_type": "code",
   "execution_count": null,
   "id": "2304519d-b46d-43a5-8a2a-8f722a2cbecb",
   "metadata": {},
   "outputs": [],
   "source": [
    "y_pred = lda_ring.fit(X_train, np.ravel(y_train)).predict(X_test)"
   ]
  },
  {
   "cell_type": "markdown",
   "id": "f6a09672-d700-4c76-b13c-d0014eaf4774",
   "metadata": {
    "tags": []
   },
   "source": [
    "#### Evaluate model"
   ]
  },
  {
   "cell_type": "code",
   "execution_count": null,
   "id": "eeafc96f-956e-4571-b3b0-8dc3564b304b",
   "metadata": {},
   "outputs": [],
   "source": [
    "evaluate_classifier_extended(lda_ring, X_train,X_test,y_train,y_test)"
   ]
  },
  {
   "cell_type": "markdown",
   "id": "a03eef76-455a-4486-ba31-3e0c2b38fc45",
   "metadata": {},
   "source": [
    "### Small"
   ]
  },
  {
   "cell_type": "markdown",
   "id": "ac677ab0-0dd5-48e0-b855-aa5cb0e692d8",
   "metadata": {},
   "source": [
    "#### Train-test splitting"
   ]
  },
  {
   "cell_type": "code",
   "execution_count": null,
   "id": "8b9a58e0-f005-407c-b7e0-89e64623f880",
   "metadata": {},
   "outputs": [],
   "source": [
    "X = data[['muscle1','muscle2','muscle3','muscle4']]\n",
    "y = data['small_bool']\n",
    "\n",
    "# Divide dataset into train and test subsets\n",
    "X_train, X_test, y_train, y_test = train_test_split(X, y, test_size=0.2, random_state=42)\n",
    "print(X_train.shape)\n",
    "print(y_train.shape)\n",
    "print(X_test.shape)\n",
    "print(y_test.shape)"
   ]
  },
  {
   "cell_type": "markdown",
   "id": "68ef51c6-9860-41fb-b286-6d924852c3f8",
   "metadata": {
    "tags": []
   },
   "source": [
    "#### Feature scaling (Standarization or Normalization)"
   ]
  },
  {
   "cell_type": "code",
   "execution_count": null,
   "id": "47f2eb21-4bfa-4890-9c75-6bc65e222ca5",
   "metadata": {},
   "outputs": [],
   "source": [
    "# Standarization\n",
    "'''\n",
    "feature_scaler = StandardScaler().fit(X_train)\n",
    "target_scaler = StandardScaler().fit(y_train)\n",
    "\n",
    "scaled_X_train = feature_scaler.transform(X_train)\n",
    "scaled_X_test = feature_scaler.transform(X_test)\n",
    "\n",
    "#scaled_y_train = target_scaler.transform(y_train)\n",
    "#scaled_y_test = target_scaler.transform(y_test)\n",
    "'''\n",
    "\n",
    "# Normalization\n",
    "feature_scaler = MinMaxScaler().fit(X_train)\n",
    "#target_scaler = MinMaxScaler().fit(y_train)\n",
    "\n",
    "scaled_X_train = feature_scaler.transform(X_train)\n",
    "scaled_X_test = feature_scaler.transform(X_test)\n",
    "\n",
    "#scaled_y_train = target_scaler.transform(y_train)\n",
    "#scaled_y_test = target_scaler.transform(y_test)"
   ]
  },
  {
   "cell_type": "markdown",
   "id": "3f9db943-ff75-4dbf-b433-9551266d8632",
   "metadata": {},
   "source": [
    "#### Create model"
   ]
  },
  {
   "cell_type": "code",
   "execution_count": null,
   "id": "de8e7752-fe70-4d1e-b188-804d0a925042",
   "metadata": {},
   "outputs": [],
   "source": [
    "lda_small = LinearDiscriminantAnalysis()"
   ]
  },
  {
   "cell_type": "markdown",
   "id": "1bc37aac-2153-473c-bb4b-59e6f333df80",
   "metadata": {},
   "source": [
    "#### Train model"
   ]
  },
  {
   "cell_type": "code",
   "execution_count": null,
   "id": "35873ca2-884d-4007-9157-f6324b7968d0",
   "metadata": {},
   "outputs": [],
   "source": [
    "y_pred = lda_small.fit(X_train, np.ravel(y_train)).predict(X_test)"
   ]
  },
  {
   "cell_type": "markdown",
   "id": "7dbb699c-0fa5-468c-b261-36fa91d8b5e4",
   "metadata": {
    "tags": []
   },
   "source": [
    "#### Evaluate model"
   ]
  },
  {
   "cell_type": "code",
   "execution_count": null,
   "id": "69dfc661-7b9b-4dbe-9c39-d9d4fa65564d",
   "metadata": {},
   "outputs": [],
   "source": [
    "evaluate_classifier_extended(lda_small, X_train,X_test,y_train,y_test)"
   ]
  },
  {
   "cell_type": "markdown",
   "id": "f1cf4ccc-0a86-4d8d-9c86-a3c7f8da827e",
   "metadata": {},
   "source": [
    "### Save models"
   ]
  },
  {
   "cell_type": "code",
   "execution_count": null,
   "id": "f2838e98-029b-4aa8-b152-54b390bc26b9",
   "metadata": {},
   "outputs": [],
   "source": [
    "joblib.dump(lda_thumb, 'model/lda_thumb.pkl')\n",
    "joblib.dump(lda_index, 'model/lda_index.pkl')\n",
    "joblib.dump(lda_long, 'model/lda_long.pkl')\n",
    "joblib.dump(lda_ring, 'model/lda_ring.pkl')\n",
    "joblib.dump(lda_small, 'model/lda_small.pkl')"
   ]
  },
  {
   "cell_type": "markdown",
   "id": "914dbf28-6d36-4192-96db-cc3f5b8ac12e",
   "metadata": {},
   "source": [
    "### \"Re-train with all data\" & save"
   ]
  },
  {
   "cell_type": "code",
   "execution_count": null,
   "id": "1439ea7d-dd82-45de-b1dd-786a2a224379",
   "metadata": {},
   "outputs": [],
   "source": [
    "#fullmodel = LinearRegression()\n",
    "#fullmodel.fit(X, y)\n",
    "#joblib.dump(fullmodel, 'model/fullmodel.pkl')"
   ]
  },
  {
   "cell_type": "markdown",
   "id": "0732961c-d6a2-4def-9367-0fb43937c571",
   "metadata": {},
   "source": [
    "## EXTRA: Load model"
   ]
  },
  {
   "cell_type": "code",
   "execution_count": null,
   "id": "bb9ea9fe-dbd2-417a-832d-b11da952ef12",
   "metadata": {},
   "outputs": [],
   "source": [
    "#loaded_model = joblib.load('model/model.pkl')"
   ]
  }
 ],
 "metadata": {
  "kernelspec": {
   "display_name": "Python 3 (ipykernel)",
   "language": "python",
   "name": "python3"
  },
  "language_info": {
   "codemirror_mode": {
    "name": "ipython",
    "version": 3
   },
   "file_extension": ".py",
   "mimetype": "text/x-python",
   "name": "python",
   "nbconvert_exporter": "python",
   "pygments_lexer": "ipython3",
   "version": "3.12.2"
  }
 },
 "nbformat": 4,
 "nbformat_minor": 5
}
